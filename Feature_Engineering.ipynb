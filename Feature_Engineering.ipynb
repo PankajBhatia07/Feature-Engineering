{
  "nbformat": 4,
  "nbformat_minor": 0,
  "metadata": {
    "colab": {
      "provenance": [],
      "collapsed_sections": [
        "CfdkKETzVkLH",
        "7M3O67IuWjDS",
        "G9-5xQNkXh-9",
        "hvgBb2ehZzSE",
        "IZ336X8obsWE",
        "H_aE3CeDdSzk",
        "zteBoJnLgCvn",
        "7hze78CPgu5Y",
        "whThUiF3hyt7",
        "JLrh3DyRiaER",
        "EkDa3TmYj2An",
        "JXDPc1r3kYWu",
        "ODNxzvaXk_zS",
        "x-p2bnqAlekR",
        "OwIhMUKil9Nn",
        "uzF7c33wmu6z",
        "dEiIJc8roYyh",
        "ETcKdvMepGGo",
        "c9VO1X1Opqpk",
        "VNGM5_MEqIen",
        "Uaqoi6o9rL2G",
        "J9Cl3w1Ir2Qk",
        "gvK5FNkDsTx8",
        "zo0NvTpYs70Q",
        "16QTSmg6tSrP"
      ]
    },
    "kernelspec": {
      "name": "python3",
      "display_name": "Python 3"
    },
    "language_info": {
      "name": "python"
    }
  },
  "cells": [
    {
      "cell_type": "markdown",
      "source": [
        "# ***Theory Question***"
      ],
      "metadata": {
        "id": "LI-ZVl0CuaYU"
      }
    },
    {
      "cell_type": "markdown",
      "source": [
        "## **Q1.What is a parameter?**"
      ],
      "metadata": {
        "id": "CfdkKETzVkLH"
      }
    },
    {
      "cell_type": "markdown",
      "source": [
        "A parameter is a value or variable that is used to provide input to a function, method, or procedure in programming. It acts like a placeholder for the actual value (called an argument) that will be passed when the function is called.\n",
        "\n",
        "**Simple Example in Python:**"
      ],
      "metadata": {
        "id": "w_iYvICZVodE"
      }
    },
    {
      "cell_type": "code",
      "source": [
        "def greet(name):  # 'name' is a parameter\n",
        "    print(f\"Hello, {name}!\")\n",
        "\n",
        "greet(\"Alice\")  # \"Alice\" is the argument passed to the parameter 'name'\n"
      ],
      "metadata": {
        "colab": {
          "base_uri": "https://localhost:8080/"
        },
        "id": "RL5URVO_WWvd",
        "outputId": "8ab46588-8e99-450a-99bc-3ee383845c22"
      },
      "execution_count": 1,
      "outputs": [
        {
          "output_type": "stream",
          "name": "stdout",
          "text": [
            "Hello, Alice!\n"
          ]
        }
      ]
    },
    {
      "cell_type": "markdown",
      "source": [
        "* **Parameter:** The variable listed in the function definition.\n",
        "\n",
        "* **Argument:** The actual value passed to the function when it is called."
      ],
      "metadata": {
        "id": "V5j3Y2RCWdGW"
      }
    },
    {
      "cell_type": "markdown",
      "source": [
        "## **Q2.What is correlation? What does negative correlation mean?**"
      ],
      "metadata": {
        "id": "7M3O67IuWjDS"
      }
    },
    {
      "cell_type": "markdown",
      "source": [
        "Correlation is a statistical measure that describes the strength and direction of a relationship between two variables. It tells you how one variable changes in relation to another.\n",
        "\n",
        "* If two variables increase or decrease together, they have positive correlation.\n",
        "\n",
        "* If one variable increases while the other decreases, they have negative correlation.\n",
        "\n",
        "* If there's no predictable pattern, the correlation is close to zero (no correlation).\n",
        "\n",
        "It’s often measured using the correlation coefficient (usually Pearson’s r), which ranges from:"
      ],
      "metadata": {
        "id": "NpR4cc3zW04J"
      }
    },
    {
      "cell_type": "markdown",
      "source": [
        "-1 (perfect negative correlation)\n",
        "\n",
        " 0 (no correlation)\n",
        "\n",
        "+1 (perfect positive correlation)\n"
      ],
      "metadata": {
        "id": "dmx4cq-6XFVY"
      }
    },
    {
      "cell_type": "markdown",
      "source": [
        "**What is Negative Correlation?**"
      ],
      "metadata": {
        "id": "jhM3phOEXH8O"
      }
    },
    {
      "cell_type": "markdown",
      "source": [
        "A negative correlation means that as one variable increases, the other decreases.\n",
        "\n",
        "**Example:**\n",
        "* The amount of exercise and body fat might have a negative correlation. As exercise increases, body fat tends to decrease.\n",
        "\n",
        "* In a graph, the data points slope downward from left to right.\n",
        "\n",
        "**Pearson Correlation Coefficient:**\n",
        "* A value close to -1 means a strong negative relationship.\n",
        "\n",
        "* Example: r = -0.85 → strong negative correlation.\n",
        "\n"
      ],
      "metadata": {
        "id": "9x20hIPYXPHS"
      }
    },
    {
      "cell_type": "code",
      "source": [
        "import matplotlib.pyplot as plt\n",
        "import numpy as np\n",
        "\n",
        "# Generate sample data with negative correlation\n",
        "np.random.seed(42)\n",
        "x = np.random.rand(50) * 10  # Random values between 0 and 10\n",
        "y = 10 - x + np.random.randn(50)  # Negative correlation with some noise\n",
        "\n",
        "# Plotting\n",
        "plt.figure(figsize=(8, 6))\n",
        "plt.scatter(x, y, color='red', label='Data Points')\n",
        "plt.title('Negative Correlation Example')\n",
        "plt.xlabel('Variable X')\n",
        "plt.ylabel('Variable Y')\n",
        "plt.grid(True)\n",
        "plt.legend()\n",
        "plt.show()\n"
      ],
      "metadata": {
        "colab": {
          "base_uri": "https://localhost:8080/",
          "height": 522
        },
        "id": "ij1ANAxvXdUn",
        "outputId": "455ea18f-93c7-4d0d-8206-618487ba4950"
      },
      "execution_count": 2,
      "outputs": [
        {
          "output_type": "display_data",
          "data": {
            "text/plain": [
              "<Figure size 800x600 with 1 Axes>"
            ],
            "image/png": "[encoded data removed]"
          },
          "metadata": {}
        }
      ]
    },
    {
      "cell_type": "markdown",
      "source": [
        "## **Q3.Define Machine Learning. What are the main components in Machine Learning?**"
      ],
      "metadata": {
        "id": "G9-5xQNkXh-9"
      }
    },
    {
      "cell_type": "markdown",
      "source": [
        "Machine Learning (ML) is a branch of Artificial Intelligence (AI) that allows systems to learn from data and improve their performance over time without being explicitly programmed for every specific task.\n",
        "\n",
        "In simple terms, it’s like teaching a computer to recognize patterns and make decisions based on experience (data) instead of hard-coded rules."
      ],
      "metadata": {
        "id": "UyGY5_JwXsch"
      }
    },
    {
      "cell_type": "markdown",
      "source": [
        "**Formal Definition:**\n",
        "Machine Learning is the study of algorithms that can learn patterns from data and use those patterns to make predictions or decisions."
      ],
      "metadata": {
        "id": "SPrJqBMDX7xN"
      }
    },
    {
      "cell_type": "markdown",
      "source": [
        "**Main Components of Machine Learning:**\n",
        "**1.Data**\n",
        "\n",
        "* The foundation of ML.\n",
        "\n",
        "* Can be structured (tables) or unstructured (images, text).\n",
        "\n",
        "* Example: Customer data, images of animals, transaction logs.\n",
        "\n",
        "**2.Features**\n",
        "\n",
        "*  Individual measurable properties or characteristics of the data.\n",
        "\n",
        "* For example, in a house price prediction model, features could be: number of bedrooms, area, location, etc.\n",
        "\n",
        "**3.Model**\n",
        "\n",
        "* A mathematical representation of a real-world process.\n",
        "\n",
        "* It’s what \"learns\" from the data.\n",
        "\n",
        "* Examples: Decision Trees, Neural Networks, Linear Regression.\n",
        "\n",
        "**4.Algorithm**\n",
        "* The method used to train the model.\n",
        "\n",
        "* It tells the model how to learn from the data.\n",
        "\n",
        "* Examples: Gradient Descent, Random Forest, Support Vector Machines.\n",
        "\n",
        "**5.Training**\n",
        "\n",
        "* Feeding the data into the model so it can learn patterns.\n",
        "\n",
        "* The goal is to minimize errors during training.\n",
        "\n",
        "**6.Testing / Evaluation**\n",
        "\n",
        "* Once trained, the model is tested on new data to check how well it performs.\n",
        "\n",
        "* Metrics like accuracy, precision, recall, and F1-score are used.\n",
        "\n",
        "**7.Prediction**\n",
        "\n",
        "* Using the trained model to make predictions on new, unseen data.\n",
        "\n",
        "**8.Feedback / Tuning**\n",
        "\n",
        "* Adjusting parameters (hyperparameters) to improve model performance (also called optimization or fine-tuning)."
      ],
      "metadata": {
        "id": "WduKHaRhYBL5"
      }
    },
    {
      "cell_type": "markdown",
      "source": [
        "## **Q4.How does loss value help in determining whether the model is good or not?**"
      ],
      "metadata": {
        "id": "hvgBb2ehZzSE"
      }
    },
    {
      "cell_type": "markdown",
      "source": [
        "The loss value is a crucial metric in evaluating the performance of a machine learning model. Here's how it helps determine whether the model is good or not:\n",
        "\n",
        "**1.Quantifying Error:**\n",
        "The loss value represents the difference between the model's predictions and the actual target values. A lower loss value indicates that the model is making predictions that are closer to the true values, which is generally desirable.\n",
        "\n",
        "**2.Guiding Optimization:** During training, the model aims to minimize the loss function by adjusting its parameters (like weights). This process is called optimization. A model with a high loss value means it has not yet learned to make accurate predictions, while a low loss value indicates that it is learning and improving.\n",
        "\n",
        "**3.Comparison Between Models:** Loss values provide a way to compare different models or different training runs. If one model consistently achieves a lower loss than another on the same data, it's likely to be the better-performing model.\n",
        "\n",
        "**4.Overfitting and Underfitting Detection:**\n",
        "\n",
        "* **Overfitting:** If the loss on the training data is very low but the loss on the validation or test data is much higher, it suggests the model has overfitted, meaning it is too specialized to the training data and may not generalize well to new, unseen data.\n",
        "\n",
        "* **Underfitting:** If the loss on both training and validation data is high, it suggests that the model is underfitting, meaning it is not complex enough to capture the patterns in the data.\n",
        "\n",
        "**5.Evaluating Model Improvements:** The loss value helps track the progress of a model during training. A decreasing loss value typically means the model is improving, while a stagnant or increasing loss might indicate issues like poor learning rates, insufficient data, or incorrect model architecture.\n",
        "\n",
        "**6.Model Selection:** When tuning hyperparameters or selecting between multiple models, the loss value is one of the key indicators to decide which model is performing better. Typically, a model with a consistently lower loss is preferred, but it's important to balance loss with other metrics like accuracy or precision, depending on the task."
      ],
      "metadata": {
        "id": "8aUMkthRZ6Tz"
      }
    },
    {
      "cell_type": "markdown",
      "source": [
        "## **Q5.What are continuous and categorical variables?**"
      ],
      "metadata": {
        "id": "IZ336X8obsWE"
      }
    },
    {
      "cell_type": "markdown",
      "source": [
        "Continuous variables and categorical variables are two fundamental types of variables in statistics and machine learning. Here's an explanation of both:\n",
        "\n",
        "**1. Continuous Variables**\n",
        "\n",
        "* **Definition:** Continuous variables are quantitative variables that can take any value within a given range. They can be measured and have an infinite number of possible values between any two points.\n",
        "\n",
        "* **Characteristics:**\n",
        "\n",
        " * They can have decimal or fractional values.\n",
        "\n",
        " * They represent quantities that can be infinitely subdivided (e.g., weight, height, temperature).\n",
        "\n",
        " * These variables are typically associated with real numbers.\n",
        "\n",
        " * They are usually measured on an interval or ratio scale.\n",
        "\n",
        "* **Examples:**\n",
        "\n",
        " * **Height:** 170.5 cm, 170.56 cm, etc.\n",
        "\n",
        " * **Weight:** 60.25 kg, 75.3 kg, etc.\n",
        "\n",
        " * **Temperature:** 22.3°C, 22.301°C, etc.\n",
        "\n",
        " * **Time:** 5.45 seconds, 5.451 seconds, etc.\n",
        "\n",
        "**2. Categorical Variables**\n",
        "\n",
        "* **Definition:**\n",
        " Categorical variables are qualitative variables that represent categories or groups. They cannot be measured on a numerical scale and are used to classify data into distinct categories.\n",
        "\n",
        "* **Characteristics:**\n",
        "\n",
        " * They represent groups or labels and often have a limited number of distinct categories.\n",
        "\n",
        " * These variables can be nominal (no inherent order) or ordinal (have a specific order).\n",
        "\n",
        " * They can be encoded using numbers (e.g., 1 for \"male,\" 0 for \"female\"), but the numbers themselves do not have mathematical meaning.\n",
        "\n",
        "* **Types:**\n",
        "\n",
        " * **Nominal:** Categories with no inherent order (e.g., gender, color, city).\n",
        "\n",
        " * **Ordinal:** Categories with a defined order but no consistent difference between values (e.g., educational level, ratings from 1 to 5).\n",
        "\n",
        "**Examples:**\n",
        "\n",
        " * **Gender:** Male, Female (Nominal).\n",
        "\n",
        "Color: Red, Blue, Green (Nominal).\n",
        "\n",
        " * **Rating:** 1-star, 2-star, 3-star (Ordinal).\n",
        "\n",
        " * **Marital Status:** Single, Married, Divorced (Ordinal).\n",
        "\n",
        "**Differences:**\n",
        "\n",
        "* **Nature of Values:**\n",
        "Continuous variables represent quantities, while categorical variables represent groups or categories.\n",
        "\n",
        "* **Measurement Scale:**\n",
        "Continuous variables are measured on a numerical scale (interval or ratio), while categorical variables are measured on a nominal or ordinal scale.\n",
        "\n",
        "* **Mathematical Operations:**You can perform mathematical operations (like addition, subtraction) on continuous variables, but not on categorical variables (except for counting or categorizing them)."
      ],
      "metadata": {
        "id": "OXtIxGV7b4ys"
      }
    },
    {
      "cell_type": "markdown",
      "source": [
        "## **Q6.How do we handle categorical variables in Machine Learning? What are the common techniques?**"
      ],
      "metadata": {
        "id": "H_aE3CeDdSzk"
      }
    },
    {
      "cell_type": "markdown",
      "source": [
        "Handling categorical variables is an important part of preparing data for machine learning models, as most algorithms require numerical inputs. Here are some common techniques for handling categorical variables in machine learning:\n",
        "\n",
        "**1. Label Encoding**\n",
        "* **What it is:** Label encoding converts each category in a categorical variable into a unique integer. It assigns an integer to each category in a consistent way (e.g., “Red” → 0, “Blue” → 1, “Green” → 2).\n",
        "\n",
        "* **When to use:** Label encoding is suitable when the categorical variable has an ordinal relationship (i.e., there is a natural order among categories).\n",
        "\n",
        "* **Example:**\n",
        "\n",
        " * Categorical variable: Education Level: [\"High School\", \"Bachelor's\", \"Master's\", \"PhD\"]\n",
        "\n",
        " * Encoded as: [0, 1, 2, 3]\n",
        "\n",
        "* **Limitations:** Label encoding can introduce a problem when applied to nominal variables (where there’s no inherent order) because the model might mistakenly interpret the integer values as having a numerical relationship.\n",
        "\n",
        "**2. One-Hot Encoding**\n",
        "* **What it is:** One-hot encoding creates binary columns for each category, where each category is represented as a vector with 1s and 0s. Each category in a feature is transformed into a new binary feature (1 if the category is present, 0 if not).\n",
        "\n",
        "**When to use:** One-hot encoding is appropriate when the categorical variable is nominal (no inherent order), and we want to avoid giving the model the impression that there’s any ordinal relationship between categories.\n",
        "\n",
        "**Example:**\n",
        "\n",
        " * Categorical variable: Color: [\"Red\", \"Blue\", \"Green\"]\n",
        "\n",
        " * One-hot encoded columns:\n",
        "\n",
        "  * Red → [1, 0, 0]\n",
        "\n",
        "  * Blue → [0, 1, 0]\n",
        "\n",
        "  * Green → [0, 0, 1]\n",
        "\n",
        "* **Limitations:** One-hot encoding increases the dimensionality of the dataset, which can lead to sparse matrices and might cause issues with memory efficiency, especially when there are many unique categories.\n",
        "\n",
        "**3. Binary Encoding**\n",
        "* **What it is:** Binary encoding is a compromise between label encoding and one-hot encoding. It converts the categories into integers and then represents those integers in binary format. Each bit of the binary number becomes a new column.\n",
        "\n",
        "* **When to use:** Binary encoding is useful when there are many unique categories, and one-hot encoding would create too many features, leading to a high-dimensional dataset.\n",
        "\n",
        "**Example:**\n",
        "\n",
        " * Categorical variable: Color: [\"Red\", \"Blue\", \"Green\"]\n",
        "\n",
        " * Assign numbers: Red → 1, Blue → 2, Green → 3\n",
        "\n",
        " * Binary encoding (3 → \"11\" in binary):\n",
        "\n",
        "  * Red → [0, 0]\n",
        "\n",
        "  * Blue → [0, 1]\n",
        "\n",
        "  * Green → [1, 1]\n",
        "\n",
        "**Limitations:** The binary representation might still have limited interpretability and could introduce some complexity in the process.\n",
        "\n",
        "**4. Frequency or Count Encoding**\n",
        "* **What it is:** Frequency or count encoding involves replacing each category with the number of times it appears in the dataset. This can work well for categorical features that have a large number of levels, especially if the frequency of occurrence is meaningful.\n",
        "\n",
        "* **When to use:** This technique is useful when the frequency of a category carries some predictive power and when the number of unique categories is large.\n",
        "\n",
        "* **Example:**\n",
        "\n",
        " * Categorical variable: City: [\"New York\", \"Los Angeles\", \"Chicago\", \"New York\"]\n",
        "\n",
        " * Frequency Encoding:\n",
        "\n",
        "  * New York → 2 (appears twice)\n",
        "\n",
        "  * Los Angeles → 1\n",
        "\n",
        "  * Chicago → 1\n",
        "\n",
        "* **Limitations:** Frequency encoding might cause problems if the distribution of categories is highly imbalanced.\n",
        "\n",
        "**5. Target Encoding (Mean Encoding)**\n",
        "* **What it is:** Target encoding replaces each category with the mean of the target variable for that category. It can be helpful when there is a relationship between the categorical feature and the target variable.\n",
        "\n",
        "* **When to use:** This technique is useful for high-cardinality categorical features where one-hot encoding would create too many columns, and the target variable has a meaningful relationship with the categorical variable.\n",
        "\n",
        "* **Example:**\n",
        "\n",
        "* Categorical variable: City and target variable: Price.\n",
        "\n",
        "* Encode each category with the average price in each city.\n",
        "\n",
        " * New York → Mean Price in New York\n",
        "\n",
        " * Los Angeles → Mean Price in Los Angeles\n",
        "\n",
        " * Chicago → Mean Price in Chicago\n",
        "\n",
        "**Limitations:** Target encoding can lead to data leakage if not carefully handled (i.e., using information from the target variable in the training phase can lead to overfitting). Cross-validation and careful handling of test data are essential to avoid this.\n",
        "\n",
        "**6. Hashing (Feature Hashing)**\n",
        "* **What it is:** Hashing is a technique where categories are hashed into a fixed-size space. This allows for dimensionality reduction, especially when dealing with high-cardinality categorical features.\n",
        "\n",
        "* **When to use:** Hashing is useful when there are a large number of categories, and you want to reduce dimensionality without creating too many sparse columns.\n",
        "\n",
        "**Example:** Categories like [\"Apple\", \"Banana\", \"Cherry\"] could be hashed into a smaller set of hash values (e.g., hashing them into a space of size 5).\n",
        "\n",
        "**Limitations:** Hash collisions may occur (i.e., two different categories may be hashed to the same value), potentially losing useful information.\n",
        "\n",
        "**7. Ordinal Encoding**\n",
        "What it is: Ordinal encoding is similar to label encoding, but it’s specifically used for ordinal categorical variables where the categories have a meaningful order. The categories are encoded with integers reflecting their order.\n",
        "\n",
        "* **When to use:** Use ordinal encoding when the categorical variable has an inherent order (e.g., “Low”, “Medium”, “High”).\n",
        "\n",
        "**Example:**\n",
        "\n",
        " * Categorical variable: Size: [\"Small\", \"Medium\", \"Large\"]\n",
        "\n",
        " * Encoded as: [0, 1, 2]\n",
        "\n",
        "* Limitations: This method works well for ordinal variables but may not be suitable for nominal variables."
      ],
      "metadata": {
        "id": "MmRgfqu8d1HF"
      }
    },
    {
      "cell_type": "markdown",
      "source": [
        "## **Q7.What do you mean by training and testing a dataset?**"
      ],
      "metadata": {
        "id": "zteBoJnLgCvn"
      }
    },
    {
      "cell_type": "markdown",
      "source": [
        "Training and testing a dataset refer to two distinct phases in the machine learning workflow:\n",
        "\n",
        "**1.Training a Dataset:**\n",
        "\n",
        "* During the training phase, the model learns from the input data. The dataset is divided into features (inputs) and labels (targets/outputs). The model uses these examples to learn patterns and relationships.\n",
        "\n",
        "* The model adjusts its internal parameters (like weights in a neural network) based on the input data and the actual outputs, aiming to minimize the error or loss between its predictions and the true values.\n",
        "\n",
        "* This phase helps the model \"fit\" to the data and gain the ability to make predictions on new, unseen data.\n",
        "\n",
        "**2.Testing a Dataset:**\n",
        "\n",
        "* After the model is trained, it's evaluated on a testing dataset that it has never seen before. The goal is to assess how well the model generalizes to new, unseen data.\n",
        "\n",
        "* The testing dataset consists of features and labels that were not part of the training set. By comparing the model's predictions with the actual labels, we get an idea of the model’s performance (e.g., accuracy, precision, recall).\n",
        "\n",
        "* This phase helps determine whether the model has overfitted (memorized the training data too well) or underfitted (failed to learn the patterns properly)."
      ],
      "metadata": {
        "id": "ERPbC2UjgPnj"
      }
    },
    {
      "cell_type": "markdown",
      "source": [
        "## **Q8.What is sklearn.preprocessing?**"
      ],
      "metadata": {
        "id": "7hze78CPgu5Y"
      }
    },
    {
      "cell_type": "markdown",
      "source": [
        "sklearn.preprocessing is a module in scikit-learn (a popular Python library for machine learning) that provides various tools and techniques for data preprocessing. Preprocessing is essential to prepare raw data into a suitable format for machine learning algorithms, as many models perform better when the data is properly scaled or transformed.\n",
        "\n",
        "Here are some key functions and classes from sklearn.preprocessing:\n",
        "\n",
        "**1. StandardScaler**\n",
        "* **Purpose:** Standardizes features by removing the mean and scaling to unit variance.\n",
        "\n",
        "* **Use Case:** Useful when features have different units or magnitudes (e.g., age and salary) because many machine learning algorithms (e.g., SVM, KNN, and linear regression) assume data is centered and scaled.\n",
        "\n",
        "**2. MinMaxScaler**\n",
        "* **Purpose:** Scales the features to a fixed range, typically [0, 1], by subtracting the minimum value and dividing by the range of the data.\n",
        "\n",
        "* **Use Case:** Useful when you need all features to have the same scale, especially for algorithms that rely on distance (e.g., KNN, neural networks).\n",
        "\n",
        "**3. RobustScaler**\n",
        "* **Purpose:** Scales features using the median and interquartile range, making it robust to outliers.\n",
        "\n",
        "* **Use Case:** Useful when your data contains many outliers, and you want to reduce their influence.\n",
        "\n",
        "**4. OneHotEncoder**\n",
        "* **Purpose:**\n",
        " Converts categorical variables into a binary matrix (one-hot encoding), where each category is represented by a separate binary feature.\n",
        "\n",
        "* **Use Case:** Necessary when dealing with categorical data in models that require numerical input (e.g., decision trees, linear models).\n",
        "\n",
        "**5. LabelEncoder**\n",
        "* **Purpose:** Converts categorical labels into numerical labels (integer encoding).\n",
        "\n",
        "* **Use Case:** Suitable for converting labels in classification tasks where the target variable is categorical.\n",
        "\n",
        "**6. Binarizer**\n",
        "* **Purpose:** Converts numerical features to binary values based on a threshold.\n",
        "\n",
        "* **Use Case:** Useful when you need to turn continuous data into binary data (e.g., for thresholding a feature at a specific value).\n",
        "\n",
        "**7. PolynomialFeatures**\n",
        "* **Purpose:** Generates polynomial and interaction features. For example, it can generate squared or cubic terms (e.g., x², x³) and interactions (e.g., x1 * x2).\n",
        "*  **Use Case:** Helps when you want to capture non-linear relationships in the data for linear models.\n",
        "\n",
        "**8. PowerTransformer**\n",
        "* **Purpose:** Applies power transformations (e.g., Box-Cox, Yeo-Johnson) to make the data more Gaussian (normal) in distribution.\n",
        "\n",
        "* **Use Case:** Useful for transforming data to meet the assumptions of certain algorithms that perform better with normally distributed data (e.g., linear regression)."
      ],
      "metadata": {
        "id": "4wD_nNdfg6xO"
      }
    },
    {
      "cell_type": "markdown",
      "source": [
        "##**Q9.What is a Test set?**"
      ],
      "metadata": {
        "id": "whThUiF3hyt7"
      }
    },
    {
      "cell_type": "markdown",
      "source": [
        "A test set is a subset of the dataset used to evaluate the performance of a machine learning model after it has been trained. It is separate from the training set, meaning the model has never seen the test set during the training process. The purpose of the test set is to provide an unbiased evaluation of how well the model generalizes to new, unseen data.\n",
        "\n",
        "**Points about a Test Set:**\n",
        "\n",
        "**1.Evaluation of Model Performance:** After the model is trained on the training set, the test set is used to assess how well the model makes predictions on data it hasn't encountered before. This helps in understanding the model's accuracy, precision, recall, or other relevant performance metrics.\n",
        "\n",
        "**2.Generalization:** The test set helps check if the model has overfitted (memorized the training data) or underfitted (failed to learn the patterns in the data). If the model performs well on the test set, it suggests that it can generalize well to new, unseen data.\n",
        "\n",
        "**3.Not Involved in Training:** The test set is never used during the training phase. It should only be used after the model is trained and hyperparameters are set to avoid bias in performance evaluation.\n",
        "\n",
        "**4.Split of Dataset:**\n",
        " * Typically, the dataset is split into:\n",
        "\n",
        " * Training Set: Used to train the model.\n",
        "\n",
        " * Validation Set: Used to fine-tune hyperparameters and perform model selection.\n",
        "\n",
        " * Test Set: Used to evaluate the final performance of the model."
      ],
      "metadata": {
        "id": "paGjUFGWh92p"
      }
    },
    {
      "cell_type": "markdown",
      "source": [
        "## **Q10.How do we split data for model fitting (training and testing) in Python?** **How do you approach a Machine Learning problem?**"
      ],
      "metadata": {
        "id": "JLrh3DyRiaER"
      }
    },
    {
      "cell_type": "markdown",
      "source": [
        "**Splitting Data for Model Fitting in Python:**\n",
        "In Python, data can be split into training and test sets using scikit-learn's train_test_split function. Here's how you can do it:"
      ],
      "metadata": {
        "id": "ODOYAULair18"
      }
    },
    {
      "cell_type": "code",
      "source": [
        "from sklearn.model_selection import train_test_split\n",
        "\n",
        "# Assuming X is your feature matrix and y is the target variable\n",
        "X_train, X_test, y_train, y_test = train_test_split(X, y, test_size=0.2, random_state=42)\n"
      ],
      "metadata": {
        "colab": {
          "base_uri": "https://localhost:8080/",
          "height": 200
        },
        "id": "PpmwmQ2Ni-Yu",
        "outputId": "86a0a0c5-56f6-4e24-fcda-607b8569c56b"
      },
      "execution_count": 3,
      "outputs": [
        {
          "output_type": "error",
          "ename": "NameError",
          "evalue": "name 'X' is not defined",
          "traceback": [
            "\u001b[0;31m---------------------------------------------------------------------------\u001b[0m",
            "\u001b[0;31mNameError\u001b[0m                                 Traceback (most recent call last)",
            "\u001b[0;32m<ipython-input-3-a1818b6be197>\u001b[0m in \u001b[0;36m<cell line: 0>\u001b[0;34m()\u001b[0m\n\u001b[1;32m      2\u001b[0m \u001b[0;34m\u001b[0m\u001b[0m\n\u001b[1;32m      3\u001b[0m \u001b[0;31m# Assuming X is your feature matrix and y is the target variable\u001b[0m\u001b[0;34m\u001b[0m\u001b[0;34m\u001b[0m\u001b[0m\n\u001b[0;32m----> 4\u001b[0;31m \u001b[0mX_train\u001b[0m\u001b[0;34m,\u001b[0m \u001b[0mX_test\u001b[0m\u001b[0;34m,\u001b[0m \u001b[0my_train\u001b[0m\u001b[0;34m,\u001b[0m \u001b[0my_test\u001b[0m \u001b[0;34m=\u001b[0m \u001b[0mtrain_test_split\u001b[0m\u001b[0;34m(\u001b[0m\u001b[0mX\u001b[0m\u001b[0;34m,\u001b[0m \u001b[0my\u001b[0m\u001b[0;34m,\u001b[0m \u001b[0mtest_size\u001b[0m\u001b[0;34m=\u001b[0m\u001b[0;36m0.2\u001b[0m\u001b[0;34m,\u001b[0m \u001b[0mrandom_state\u001b[0m\u001b[0;34m=\u001b[0m\u001b[0;36m42\u001b[0m\u001b[0;34m)\u001b[0m\u001b[0;34m\u001b[0m\u001b[0;34m\u001b[0m\u001b[0m\n\u001b[0m",
            "\u001b[0;31mNameError\u001b[0m: name 'X' is not defined"
          ]
        }
      ]
    },
    {
      "cell_type": "markdown",
      "source": [
        "* X: The feature matrix (independent variables).\n",
        "\n",
        "* y: The target vector (dependent variable).\n",
        "\n",
        "* test_size: The proportion of the dataset to include in the test split (e.g., 0.2 means 20% test data).\n",
        "\n",
        "* random_state: A seed for random number generation to ensure reproducibility.\n",
        "\n",
        "This splits the dataset into 80% training data and 20% testing data (you can adjust the split ratio as needed).\n",
        "\n"
      ],
      "metadata": {
        "id": "HY5jAmAGjFRM"
      }
    },
    {
      "cell_type": "markdown",
      "source": [
        "**Approach to a Machine Learning Problem:**\n",
        "**1.Define the Problem:**\n",
        "\n",
        " * Clearly understand the objective (e.g., classification, regression).\n",
        "\n",
        " * Define the input features and target variable.\n",
        "\n",
        "**2.Data Collection:**\n",
        "\n",
        " * Gather and collect the necessary data for the problem.\n",
        "\n",
        "**3.Data Preprocessing:**\n",
        "\n",
        "* Clean the data by handling missing values, duplicates, or outliers.\n",
        "\n",
        "* Transform the data by encoding categorical variables, normalizing/scaling numerical features, and splitting the dataset into training and testing sets.\n",
        "\n",
        "**4.Feature Engineering:**\n",
        "\n",
        "* Create new features, select relevant features, and reduce dimensionality if necessary (e.g., through PCA).\n",
        "\n",
        "**5.Model Selection:**\n",
        "\n",
        "* Choose an appropriate model based on the problem (e.g., linear regression, decision trees, SVM for classification).\n",
        "\n",
        "* Train the model using the training dataset.\n",
        "\n",
        "**6.Model Evaluation:**\n",
        "\n",
        "* Evaluate the model's performance using appropriate metrics (e.g., accuracy, precision, recall, F1 score for classification or RMSE for regression).\n",
        "\n",
        "* Use the test set to evaluate generalization.\n",
        "\n",
        "**7.Model Tuning:**\n",
        "\n",
        "* Adjust hyperparameters using techniques like cross-validation and grid search to improve the model's performance.\n",
        "\n",
        "**8.Model Deployment:**\n",
        "\n",
        "* Once the model is fine-tuned and performs well, deploy it for use in real-world scenarios or in production environments.\n",
        "\n",
        "**9.Monitoring and Maintenance:**\n",
        "\n",
        "* Continuously monitor the model's performance and retrain it if necessary with new data."
      ],
      "metadata": {
        "id": "tLBjvjPAjMyE"
      }
    },
    {
      "cell_type": "markdown",
      "source": [
        "## **Q11.Why do we have to perform EDA before fitting a model to the data?**"
      ],
      "metadata": {
        "id": "EkDa3TmYj2An"
      }
    },
    {
      "cell_type": "markdown",
      "source": [
        "We perform Exploratory Data Analysis (EDA) before fitting a machine learning model to:\n",
        "\n",
        "**1. Understand the Data**\n",
        "* EDA helps you get a clear picture of the dataset—its structure, size, types of variables, and the relationships between them.\n",
        "\n",
        "* It answers questions like: What does each feature mean? Are the values reasonable?\n",
        "\n",
        "**2. Detect Missing or Incorrect Data**\n",
        "* EDA helps identify missing values, duplicates, or anomalies (e.g., outliers, typos).\n",
        "\n",
        "* This ensures the data is clean, which is essential for accurate model training.\n",
        "\n",
        "**3. Understand Distributions**\n",
        "* You can check how each feature is distributed (normal, skewed, etc.), which helps decide whether scaling or transformation is needed.\n",
        "\n",
        "**4. Identify Feature Relationships**\n",
        "* EDA shows correlations between features and the target variable, helping identify which features are most important or redundant.\n",
        "\n",
        "**5. Guide Preprocessing Steps**\n",
        "* Based on EDA, you decide how to handle categorical variables, scaling, encoding, dealing with outliers, etc.\n",
        "\n",
        "**6. Choose the Right Model**\n",
        "* The insights from EDA help determine if your problem is linear/non-linear, classification/regression, balanced/imbalanced, etc., which influences model selection."
      ],
      "metadata": {
        "id": "rigVx9y8j8kz"
      }
    },
    {
      "cell_type": "markdown",
      "source": [
        "## **Q12.What is correlation?**"
      ],
      "metadata": {
        "id": "JXDPc1r3kYWu"
      }
    },
    {
      "cell_type": "markdown",
      "source": [
        "Correlation is a statistical measure that describes the strength and direction of a relationship between two variables.\n",
        "\n",
        "* **Positive Correlation:** As one variable increases, the other also increases.\n",
        "Example: Height and weight.\n",
        "\n",
        "* **Negative Correlation:** As one variable increases, the other decreases.\n",
        "Example: Hours of study and number of mistakes.\n",
        "\n",
        "* **No Correlation:** No clear relationship between the variables.\n",
        "Example: Shoe size and exam scores."
      ],
      "metadata": {
        "id": "3A5BAF8EkgKo"
      }
    },
    {
      "cell_type": "markdown",
      "source": [
        "**Correlation Coefficient (r):**\n",
        "* Ranges from -1 to +1:\n",
        "\n",
        " * +1 → Perfect positive correlation\n",
        "\n",
        " * 0 → No correlation\n",
        "\n",
        " * -1 → Perfect negative correlation\n",
        "\n",
        "* Common method: Pearson correlation coefficient, used for linear relationships.\n",
        "\n"
      ],
      "metadata": {
        "id": "7Uu2mo56klCA"
      }
    },
    {
      "cell_type": "markdown",
      "source": [
        "**In Machine Learning:**\n",
        "* Helps identify which features are related to the target variable.\n",
        "\n",
        "* Can help remove highly correlated features (multicollinearity), especially for linear models.\n",
        "\n",
        "**Example:**"
      ],
      "metadata": {
        "id": "QyBMJRBqk2B3"
      }
    },
    {
      "cell_type": "code",
      "source": [
        "import pandas as pd\n",
        "\n",
        "# Sample data\n",
        "data = {'Age': [20, 22, 25, 30], 'Salary': [2000, 2500, 2700, 3000]}\n",
        "df = pd.DataFrame(data)\n",
        "\n",
        "# Calculate correlation\n",
        "print(df.corr())\n"
      ],
      "metadata": {
        "colab": {
          "base_uri": "https://localhost:8080/"
        },
        "id": "PJh7S2EMk8_y",
        "outputId": "a47e4ffb-b12b-4e49-8c9d-7e5335b5954d"
      },
      "execution_count": 4,
      "outputs": [
        {
          "output_type": "stream",
          "name": "stdout",
          "text": [
            "             Age    Salary\n",
            "Age     1.000000  0.939045\n",
            "Salary  0.939045  1.000000\n"
          ]
        }
      ]
    },
    {
      "cell_type": "markdown",
      "source": [
        "## **Q13.What does negative correlation mean?**"
      ],
      "metadata": {
        "id": "ODNxzvaXk_zS"
      }
    },
    {
      "cell_type": "markdown",
      "source": [
        "Negative correlation means that as one variable increases, the other variable decreases, and vice versa.\n",
        "\n",
        "**In Simple Terms:**\n",
        "* When two variables move in opposite directions.\n",
        "\n",
        "**Correlation Coefficient:**\n",
        "* A negative correlation has a correlation coefficient less than 0 (between -1 and 0).\n",
        "\n",
        " * -1 means a perfect negative correlation.\n",
        "\n",
        " * 0 means no correlation.\n",
        "\n",
        "**Example:**\n",
        "* Hours of exercise and body fat percentage:\n",
        "→ As exercise increases, body fat usually decreases → Negative correlation.\n",
        "\n",
        "* Speed of a car and time to reach a destination:\n",
        "→ As speed increases, travel time decreases → Negative correlation.\n",
        "\n",
        "**In Machine Learning:**\n",
        "* Negative correlation helps in feature selection: it shows that a feature may have an inverse relationship with the target variable.\n",
        "\n",
        "* Useful in understanding how variables influence each other."
      ],
      "metadata": {
        "id": "tgT17x_8lC-W"
      }
    },
    {
      "cell_type": "markdown",
      "source": [
        "## **Q14.How can you find correlation between variables in Python?**"
      ],
      "metadata": {
        "id": "x-p2bnqAlekR"
      }
    },
    {
      "cell_type": "markdown",
      "source": [
        "You can find the correlation between variables in Python using the pandas library, which provides a simple and powerful way to calculate correlation matrices.\n",
        "\n",
        "Using pandas.DataFrame.corr()\n",
        "* **Step-by-step example:**"
      ],
      "metadata": {
        "id": "Om7OLloZll2g"
      }
    },
    {
      "cell_type": "code",
      "source": [
        "import pandas as pd\n",
        "\n",
        "# Sample dataset\n",
        "data = {\n",
        "    'Age': [21, 25, 30, 35, 40],\n",
        "    'Salary': [2000, 2500, 3000, 4000, 5000],\n",
        "    'Experience': [1, 3, 5, 7, 9]\n",
        "}\n",
        "\n",
        "df = pd.DataFrame(data)\n",
        "\n",
        "# Compute correlation matrix\n",
        "correlation_matrix = df.corr()\n",
        "\n",
        "# Display the correlation matrix\n",
        "print(correlation_matrix)\n"
      ],
      "metadata": {
        "colab": {
          "base_uri": "https://localhost:8080/"
        },
        "id": "n80Scz4_lq6G",
        "outputId": "013d55e9-a364-4569-fa4a-5122393ce9cb"
      },
      "execution_count": 5,
      "outputs": [
        {
          "output_type": "stream",
          "name": "stdout",
          "text": [
            "                 Age    Salary  Experience\n",
            "Age         1.000000  0.989411    0.999133\n",
            "Salary      0.989411  1.000000    0.984798\n",
            "Experience  0.999133  0.984798    1.000000\n"
          ]
        }
      ]
    },
    {
      "cell_type": "markdown",
      "source": [
        "**Output Explanation:**\n",
        "* The result is a correlation matrix, showing correlation coefficients (values between -1 and 1) for every pair of numerical features.\n",
        "\n",
        "* For example:\n",
        "\n",
        " * A value close to 1 → strong positive correlation.\n",
        "\n",
        " * A value close to -1 → strong negative correlation.\n",
        "\n",
        " * A value near 0 → no correlation.\n",
        "\n"
      ],
      "metadata": {
        "id": "aF3n9PoklxPQ"
      }
    },
    {
      "cell_type": "markdown",
      "source": [
        "## **Q15.What is causation? Explain difference between correlation and causation with an example.**"
      ],
      "metadata": {
        "id": "OwIhMUKil9Nn"
      }
    },
    {
      "cell_type": "markdown",
      "source": [
        "Causation means that one variable directly affects or causes a change in another variable.\n",
        "\n",
        "It’s a cause-and-effect relationship.\n",
        "If X causes Y, then changing X will lead to a change in Y.\n",
        "\n",
        "**Correlation vs. Causation:**\n",
        "![Screenshot 2025-04-17 220340.png](data:image/png;base64,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)"
      ],
      "metadata": {
        "id": "Sz4Sm3lGmB9Z"
      }
    },
    {
      "cell_type": "markdown",
      "source": [
        "**Example:**\n",
        "* **Correlation Example:**\n",
        " * Ice cream sales and drowning incidents both increase in summer.\n",
        "\n",
        " * They are correlated, but one does not cause the other.\n",
        "\n",
        " * The actual cause is a third variable: hot weather.\n",
        "\n",
        "**Causation Example:**\n",
        " * Smoking leads to lung disease.\n",
        "\n",
        " * Scientific studies have shown that smoking causes damage to lungs — it’s a causal relationship.\n",
        "\n",
        "\n",
        "**Important:**\n",
        "Just because two variables are correlated, it does NOT mean one causes the other.\n",
        "\n",
        "Correlation ≠ Causation\n"
      ],
      "metadata": {
        "id": "NwnWSdeJmfop"
      }
    },
    {
      "cell_type": "markdown",
      "source": [
        "## **Q16.What is an Optimizer? What are different types of optimizers? Explain each with an example.**\n"
      ],
      "metadata": {
        "id": "uzF7c33wmu6z"
      }
    },
    {
      "cell_type": "markdown",
      "source": [
        "An optimizer is an algorithm used to adjust the parameters (like weights and biases) of a machine learning model to minimize the loss function during training.\n",
        "It helps the model learn better by finding the set of parameters that produce the best predictions.\n",
        "\n",
        "**Different Types of optimizers**\n",
        "\n",
        "**1. Gradient Descent (GD)**\n",
        "* Concept: Calculates the gradient of the loss function and moves in the opposite direction to minimize it.\n",
        "\n",
        "* Works well for small datasets but is slow on large datasets.\n",
        "\n",
        "** Example:**"
      ],
      "metadata": {
        "id": "vnzEez92nAIj"
      }
    },
    {
      "cell_type": "code",
      "source": [
        "# Pseudocode\n",
        "w = w - learning_rate * gradient\n"
      ],
      "metadata": {
        "id": "UY5wZHMMnaWY"
      },
      "execution_count": null,
      "outputs": []
    },
    {
      "cell_type": "markdown",
      "source": [
        "**2. Stochastic Gradient Descent (SGD)**\n",
        "* Concept: Updates weights using one training sample at a time.\n",
        "\n",
        "* Faster than standard GD but more noisy.\n",
        "\n",
        "**Example:**"
      ],
      "metadata": {
        "id": "qTe7tgJPncDn"
      }
    },
    {
      "cell_type": "code",
      "source": [
        "from tensorflow.keras.optimizers import SGD\n",
        "optimizer = SGD(learning_rate=0.01)\n"
      ],
      "metadata": {
        "id": "eANi9qg5nhAG"
      },
      "execution_count": null,
      "outputs": []
    },
    {
      "cell_type": "markdown",
      "source": [
        "**3. Mini-Batch Gradient Descent**\n",
        "* Concept: Combines the benefits of GD and SGD by using small batches of data.\n",
        "\n",
        "* Good balance between speed and stability.\n",
        "\n",
        "\n",
        "**4. Momentum**\n",
        "* Concept: Adds a velocity term to keep moving in the right direction and avoid oscillation.\n",
        "\n",
        "* Helps accelerate training.\n",
        "\n",
        "**Example:**"
      ],
      "metadata": {
        "id": "Ywq-ORFCnlyk"
      }
    },
    {
      "cell_type": "code",
      "source": [
        "from tensorflow.keras.optimizers import SGD\n",
        "optimizer = SGD(learning_rate=0.01, momentum=0.9)\n"
      ],
      "metadata": {
        "id": "VaBpJlVnnyDK"
      },
      "execution_count": null,
      "outputs": []
    },
    {
      "cell_type": "markdown",
      "source": [
        "**5. RMSProp (Root Mean Square Propagation)**\n",
        "* Concept: Divides the learning rate by a moving average of recent gradients.\n",
        "\n",
        "* Handles non-stationary objectives (changing data).\n",
        "\n",
        "* Common in RNNs.\n",
        "\n",
        "**Example:**"
      ],
      "metadata": {
        "id": "0EoDo22bn0DF"
      }
    },
    {
      "cell_type": "code",
      "source": [
        "from tensorflow.keras.optimizers import RMSprop\n",
        "optimizer = RMSprop(learning_rate=0.001)\n"
      ],
      "metadata": {
        "id": "r2ymWRv4n5vE"
      },
      "execution_count": null,
      "outputs": []
    },
    {
      "cell_type": "markdown",
      "source": [
        "**6. Adam (Adaptive Moment Estimation)**\n",
        "* Concept: Combines Momentum + RMSProp.\n",
        "\n",
        "* Very popular and works well in most deep learning models.\n",
        "\n",
        "* It adapts learning rates for each parameter.\n",
        "\n",
        "**Example:**"
      ],
      "metadata": {
        "id": "A_m0xWjon8ya"
      }
    },
    {
      "cell_type": "code",
      "source": [
        "from tensorflow.keras.optimizers import Adam\n",
        "optimizer = Adam(learning_rate=0.001)\n"
      ],
      "metadata": {
        "id": "u4k_e9zooD4G"
      },
      "execution_count": null,
      "outputs": []
    },
    {
      "cell_type": "markdown",
      "source": [
        "![Screenshot 2025-04-17 221203.png](data:image/png;base64,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)"
      ],
      "metadata": {
        "id": "jr9pFszYoWc-"
      }
    },
    {
      "cell_type": "markdown",
      "source": [
        "## **Q17.What is sklearn.linear_model ?**"
      ],
      "metadata": {
        "id": "dEiIJc8roYyh"
      }
    },
    {
      "cell_type": "markdown",
      "source": [
        "sklearn.linear_model is a module in the Scikit-learn library that provides a collection of linear models for regression and classification tasks.\n",
        "\n",
        "These models work on the principle of fitting a linear relationship between the input features (X) and the target variable (y).\n",
        "\n",
        "![Screenshot 2025-04-17 221203.png](data:image/png;base64,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)"
      ],
      "metadata": {
        "id": "xHA3WFSSoh7Y"
      }
    },
    {
      "cell_type": "code",
      "source": [
        "#Example: Using LinearRegression\n",
        "from sklearn.linear_model import LinearRegression\n",
        "from sklearn.model_selection import train_test_split\n",
        "\n",
        "# Sample data\n",
        "X = [[1], [2], [3], [4]]\n",
        "y = [2, 4, 6, 8]\n",
        "\n",
        "# Train-test split\n",
        "X_train, X_test, y_train, y_test = train_test_split(X, y, test_size=0.25)\n",
        "\n",
        "# Create and train the model\n",
        "model = LinearRegression()\n",
        "model.fit(X_train, y_train)\n",
        "\n",
        "# Make predictions\n",
        "predictions = model.predict(X_test)\n"
      ],
      "metadata": {
        "id": "loQ3NJv4o97y"
      },
      "execution_count": 6,
      "outputs": []
    },
    {
      "cell_type": "markdown",
      "source": [
        "## **Q18.What does model.fit() do? What arguments must be given?**"
      ],
      "metadata": {
        "id": "ETcKdvMepGGo"
      }
    },
    {
      "cell_type": "markdown",
      "source": [
        "model.fit() is the function used to train a machine learning model on your data.\n",
        "\n",
        "It takes the input features (X) and the target labels (y), then adjusts the model's internal parameters (like weights) to learn patterns from the data.\n",
        "\n",
        "**In Simple Terms:**\n",
        "\n",
        "model.fit(X, y) teaches the model:\n",
        "“Given this input (X), this should be the output (y).”"
      ],
      "metadata": {
        "id": "CrACfSkQpOHA"
      }
    },
    {
      "cell_type": "markdown",
      "source": [
        "**Arguments Required:**"
      ],
      "metadata": {
        "id": "om0HNmj8pcTJ"
      }
    },
    {
      "cell_type": "code",
      "source": [
        "model.fit(X, y)\n"
      ],
      "metadata": {
        "id": "qFancWVwpia9"
      },
      "execution_count": null,
      "outputs": []
    },
    {
      "cell_type": "markdown",
      "source": [
        "* X → The features/input data (2D array: shape = [n_samples, n_features])\n",
        "Example: age, salary, etc.\n",
        "\n",
        "* y → The target/output variable (1D array: shape = [n_samples])\n",
        "Example: house price, pass/fail, 0/1, etc.\n",
        "\n"
      ],
      "metadata": {
        "id": "md4VJfdjpjKj"
      }
    },
    {
      "cell_type": "code",
      "source": [
        "#Example with Scikit-learn:\n",
        "from sklearn.linear_model import LinearRegression\n",
        "\n",
        "model = LinearRegression()\n",
        "\n",
        "# X = input features, y = target variable\n",
        "model.fit(X, y)\n"
      ],
      "metadata": {
        "id": "QvKfd5qApmsw"
      },
      "execution_count": null,
      "outputs": []
    },
    {
      "cell_type": "markdown",
      "source": [
        "## **Q19.What does model.predict() do? What arguments must be given?**"
      ],
      "metadata": {
        "id": "c9VO1X1Opqpk"
      }
    },
    {
      "cell_type": "markdown",
      "source": [
        "model.predict() is used after training to make predictions using a machine learning model.\n",
        "\n",
        "It takes new/unseen input data (X) and returns the model’s predicted output (y_pred) based on what it learned during training.\n",
        "\n",
        "**In Simple Terms:**\n",
        "“Hey model, now that you’ve learned from the data, what’s your prediction for this new input?”"
      ],
      "metadata": {
        "id": "vJcBbTxipvUv"
      }
    },
    {
      "cell_type": "markdown",
      "source": [
        "**Arguments Required:**"
      ],
      "metadata": {
        "id": "bawj89z-p6_h"
      }
    },
    {
      "cell_type": "code",
      "source": [
        "model.predict(X)\n"
      ],
      "metadata": {
        "id": "QApfd2mKp9XT"
      },
      "execution_count": null,
      "outputs": []
    },
    {
      "cell_type": "markdown",
      "source": [
        "* X → A 2D array or DataFrame of new input features (shape = [n_samples, n_features])\n",
        "The data structure should match the format used in model.fit().\n",
        "\n"
      ],
      "metadata": {
        "id": "I9N220Olp-80"
      }
    },
    {
      "cell_type": "code",
      "source": [
        "#Example (Scikit-learn):\n",
        "from sklearn.linear_model import LinearRegression\n",
        "\n",
        "# Assume model has already been trained\n",
        "model = LinearRegression()\n",
        "model.fit(X_train, y_train)\n",
        "\n",
        "# Now use it to predict on new data\n",
        "y_pred = model.predict(X_test)\n"
      ],
      "metadata": {
        "id": "98Jy4FGqqCJB"
      },
      "execution_count": 8,
      "outputs": []
    },
    {
      "cell_type": "markdown",
      "source": [
        "## **Q20.What are continuous and categorical variables?**"
      ],
      "metadata": {
        "id": "VNGM5_MEqIen"
      }
    },
    {
      "cell_type": "markdown",
      "source": [
        "In machine learning and statistics, data is often classified into two main types of variables:\n",
        "\n",
        "**1. Continuous Variables**\n",
        "* Represent numeric values that can take any value within a range.\n",
        "\n",
        "* They are measurable and often include decimals/fractions.\n",
        "\n",
        "* You can perform arithmetic operations (add, subtract, etc.).\n",
        "\n",
        "**Examples:**\n",
        "* Height (e.g., 170.5 cm)\n",
        "\n",
        "* Weight (e.g., 65.3 kg)\n",
        "\n",
        "* Temperature (e.g., 37.2°C)\n",
        "\n",
        "* Salary, Age, Distance, Speed\n",
        "\n",
        "\n",
        "**2. Categorical Variables**\n",
        "* Represent categories, labels, or groups.\n",
        "\n",
        "* They are not numeric in nature (even if numbers are used to label them).\n",
        "\n",
        "* You cannot perform arithmetic on them.\n",
        "\n",
        "**Two types:**\n",
        "* Nominal: No natural order (e.g., color: red, blue, green)\n",
        "\n",
        "* Ordinal: Has a meaningful order (e.g., size: small < medium < large)\n",
        "\n",
        "**Examples:**\n",
        "* Gender (Male, Female)\n",
        "\n",
        "* Country (India, USA)\n",
        "\n",
        "* Yes/No answers\n",
        "\n",
        "* Grade levels (A, B, C)\n",
        "\n",
        "**Why It Matters in ML:**\n",
        "* Continuous variables can be used directly in most models.\n",
        "\n",
        "* Categorical variables often need to be encoded (e.g., with one-hot encoding or label encoding) before being used in models.\n",
        "\n",
        "\n",
        "![Screenshot 2025-04-17 222414.png](data:image/png;base64,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)"
      ],
      "metadata": {
        "id": "R-FQ1_HHqQCj"
      }
    },
    {
      "cell_type": "markdown",
      "source": [
        "## **Q21.What is feature scaling? How does it help in Machine Learning?**"
      ],
      "metadata": {
        "id": "Uaqoi6o9rL2G"
      }
    },
    {
      "cell_type": "markdown",
      "source": [
        "Feature scaling is the process of normalizing or standardizing the range of independent variables (features) in a dataset. It ensures that all features contribute equally to the model's performance.\n",
        "\n",
        "**How It Helps in Machine Learning:**\n",
        "\n",
        "* **Improves convergence speed:** Optimizers like gradient descent converge faster when features are on the same scale.\n",
        "\n",
        "* **Prevents dominance of certain features:** Features with larger ranges or values don’t dominate the model.\n",
        "\n",
        "* **Essential for distance-based algorithms:** Models like KNN, SVM, and linear regression are sensitive to the scale of data.\n",
        "\n",
        "**Common Scaling Techniques:**\n",
        "\n",
        "**1.Min-Max Scaling:** Rescales features to a specific range (usually 0 to 1).\n",
        "\n",
        "**2.Standardization (Z-score):** Centers data around 0 with a standard deviation of 1."
      ],
      "metadata": {
        "id": "9dslFmrjrRKS"
      }
    },
    {
      "cell_type": "markdown",
      "source": [
        "## **Q22.How do we perform scaling in Python?**"
      ],
      "metadata": {
        "id": "J9Cl3w1Ir2Qk"
      }
    },
    {
      "cell_type": "markdown",
      "source": [
        "You can perform feature scaling in Python using the scikit-learn library. Specifically, the StandardScaler and MinMaxScaler are commonly used for standardization and normalization, respectively.\n",
        "\n",
        "**1. Standardization (Z-score Scaling)**\n",
        "This scales the features to have a mean of 0 and a standard deviation of 1.\n",
        "\n",
        "Example with StandardScaler:"
      ],
      "metadata": {
        "id": "ChwocGiSsCDx"
      }
    },
    {
      "cell_type": "code",
      "source": [
        "from sklearn.preprocessing import StandardScaler\n",
        "\n",
        "# Example data\n",
        "X = [[1, 2], [2, 3], [3, 4], [4, 5]]\n",
        "\n",
        "# Initialize the scaler\n",
        "scaler = StandardScaler()\n",
        "\n",
        "# Fit and transform the data\n",
        "X_scaled = scaler.fit_transform(X)\n",
        "\n",
        "print(X_scaled)\n"
      ],
      "metadata": {
        "colab": {
          "base_uri": "https://localhost:8080/"
        },
        "id": "oMjkWKsFsLZS",
        "outputId": "97d7455d-02b7-433c-e7ce-3c6934778c94"
      },
      "execution_count": 9,
      "outputs": [
        {
          "output_type": "stream",
          "name": "stdout",
          "text": [
            "[[-1.34164079 -1.34164079]\n",
            " [-0.4472136  -0.4472136 ]\n",
            " [ 0.4472136   0.4472136 ]\n",
            " [ 1.34164079  1.34164079]]\n"
          ]
        }
      ]
    },
    {
      "cell_type": "markdown",
      "source": [
        "**2. Normalization (Min-Max Scaling)**\n",
        "This scales the features to a range of [0, 1].\n",
        "\n",
        "Example with MinMaxScaler:"
      ],
      "metadata": {
        "id": "59nheFqqsOPO"
      }
    },
    {
      "cell_type": "code",
      "source": [
        "from sklearn.preprocessing import MinMaxScaler\n",
        "\n",
        "# Example data\n",
        "X = [[1, 2], [2, 3], [3, 4], [4, 5]]\n",
        "\n",
        "# Initialize the scaler\n",
        "scaler = MinMaxScaler()\n",
        "\n",
        "# Fit and transform the data\n",
        "X_scaled = scaler.fit_transform(X)\n",
        "\n",
        "print(X_scaled)\n"
      ],
      "metadata": {
        "colab": {
          "base_uri": "https://localhost:8080/"
        },
        "id": "Dojp5RN0sQcZ",
        "outputId": "ed2d1678-d85d-494c-be56-249f5f1db362"
      },
      "execution_count": 10,
      "outputs": [
        {
          "output_type": "stream",
          "name": "stdout",
          "text": [
            "[[0.         0.        ]\n",
            " [0.33333333 0.33333333]\n",
            " [0.66666667 0.66666667]\n",
            " [1.         1.        ]]\n"
          ]
        }
      ]
    },
    {
      "cell_type": "markdown",
      "source": [
        "## **Q23.What is sklearn.preprocessing?**"
      ],
      "metadata": {
        "id": "gvK5FNkDsTx8"
      }
    },
    {
      "cell_type": "markdown",
      "source": [
        "sklearn.preprocessing is a module in Scikit-learn that provides several tools for preprocessing data before feeding it into a machine learning model. It includes methods for scaling, normalizing, encoding, and transforming data to make it suitable for machine learning algorithms.\n",
        "\n",
        "**functionalities include:**\n",
        "**1.Scaling:** Normalizing or standardizing feature values (e.g., StandardScaler, MinMaxScaler).\n",
        "\n",
        "**2.Encoding:** Converting categorical data into numerical format (e.g., OneHotEncoder, LabelEncoder).\n",
        "\n",
        "**3.Imputation:** Handling missing data (e.g., SimpleImputer).\n",
        "\n",
        "**4.Binarization:** Converting features into binary values (e.g., Binarizer)."
      ],
      "metadata": {
        "id": "S6zkDkkfsXvy"
      }
    },
    {
      "cell_type": "markdown",
      "source": [
        "## **Q24.How do we split data for model fitting (training and testing) in Python?**\n"
      ],
      "metadata": {
        "id": "zo0NvTpYs70Q"
      }
    },
    {
      "cell_type": "markdown",
      "source": [
        "In Python, we can use train_test_split() from sklearn.model_selection to split the dataset into training and testing sets.\n",
        "\n",
        "Syntax\n"
      ],
      "metadata": {
        "id": "1mSORxOitBGG"
      }
    },
    {
      "cell_type": "code",
      "source": [
        "from sklearn.model_selection import train_test_split\n",
        "\n",
        "# X: input features, y: target variable\n",
        "X_train, X_test, y_train, y_test = train_test_split(X, y, test_size=0.2, random_state=42)\n"
      ],
      "metadata": {
        "id": "A3fJNYC6tI3b"
      },
      "execution_count": null,
      "outputs": []
    },
    {
      "cell_type": "markdown",
      "source": [
        "**Arguments:**\n",
        "* X: Features (input data)\n",
        "\n",
        "* y: Target variable (output)\n",
        "\n",
        "* test_size: Proportion of the data to be used for testing (e.g., 0.2 for 20% test data, 80% for training)\n",
        "\n",
        "* random_state: Ensures reproducibility by fixing the seed of the random number generator\n",
        "\n",
        "**Example:**"
      ],
      "metadata": {
        "id": "20q2i4HhtKf-"
      }
    },
    {
      "cell_type": "code",
      "source": [
        "from sklearn.model_selection import train_test_split\n",
        "\n",
        "# Sample data\n",
        "X = [[1, 2], [2, 3], [3, 4], [4, 5]]\n",
        "y = [1, 2, 3, 4]\n",
        "\n",
        "# Split data: 75% for training, 25% for testing\n",
        "X_train, X_test, y_train, y_test = train_test_split(X, y, test_size=0.25, random_state=42)\n",
        "\n",
        "print(\"Training features:\", X_train)\n",
        "print(\"Testing features:\", X_test)\n"
      ],
      "metadata": {
        "colab": {
          "base_uri": "https://localhost:8080/"
        },
        "id": "f2d1rsI4tQHp",
        "outputId": "82eef363-1aa1-4817-e272-f53729964e5c"
      },
      "execution_count": 11,
      "outputs": [
        {
          "output_type": "stream",
          "name": "stdout",
          "text": [
            "Training features: [[4, 5], [1, 2], [3, 4]]\n",
            "Testing features: [[2, 3]]\n"
          ]
        }
      ]
    },
    {
      "cell_type": "markdown",
      "source": [
        "## **Q25.Explain data encoding?**"
      ],
      "metadata": {
        "id": "16QTSmg6tSrP"
      }
    },
    {
      "cell_type": "markdown",
      "source": [
        "Data Encoding is the process of converting categorical variables into numerical values so that machine learning models can understand and process the data. Models require numerical input, so encoding is essential for working with categorical data.\n",
        "\n",
        "**Common Encoding Techniques:**\n",
        "**1.Label Encoding:**\n",
        "\n",
        "* Converts each category into a unique integer.\n",
        "\n",
        "* Used for ordinal data (data with a meaningful order).\n",
        "\n",
        "**Example:**"
      ],
      "metadata": {
        "id": "SYPklucOtX7o"
      }
    },
    {
      "cell_type": "code",
      "source": [
        "from sklearn.preprocessing import LabelEncoder\n",
        "encoder = LabelEncoder()\n",
        "encoded_labels = encoder.fit_transform(['cat', 'dog', 'cat', 'rabbit'])\n",
        "# Output: [0, 1, 0, 2]\n"
      ],
      "metadata": {
        "id": "98RBHLGNt1X-"
      },
      "execution_count": 14,
      "outputs": []
    },
    {
      "cell_type": "markdown",
      "source": [
        "**2.One-Hot Encoding:**\n",
        "\n",
        "* Converts each category into a binary vector (0 or 1) with a column for each possible category.\n",
        "\n",
        "* Used for nominal data (data without a meaningful order).\n"
      ],
      "metadata": {
        "id": "01CzEcjrt44i"
      }
    },
    {
      "cell_type": "markdown",
      "source": [
        "**3.Ordinal Encoding:**\n",
        "\n",
        "* Converts categories into integers that represent a specific order (e.g., low < medium < high).\n",
        "\n",
        "**4.Binary Encoding:**\n",
        "\n",
        "* Converts categories into binary numbers and then splits them into separate columns."
      ],
      "metadata": {
        "id": "tQMdrQdGuOAJ"
      }
    },
    {
      "cell_type": "markdown",
      "source": [
        "**Why Encoding Is Important:**\n",
        "* Machine learning algorithms (like decision trees, linear models) require numerical data to perform computations.\n",
        "\n",
        "* Encoding ensures that categorical data is properly interpreted and used for model training."
      ],
      "metadata": {
        "id": "b3vkxcmduUvU"
      }
    }
  ]
}